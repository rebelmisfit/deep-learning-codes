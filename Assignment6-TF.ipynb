{
 "cells": [
  {
   "cell_type": "code",
   "execution_count": 1,
   "id": "initial_id",
   "metadata": {
    "ExecuteTime": {
     "end_time": "2024-10-27T16:35:54.227389Z",
     "start_time": "2024-10-27T16:35:54.220759Z"
    },
    "id": "initial_id"
   },
   "outputs": [],
   "source": [
    "import tensorflow as tf\n",
    "from tensorflow.keras.preprocessing import image_dataset_from_directory\n",
    "from tensorflow.keras.layers import Dense, Flatten, Dropout\n",
    "\n",
    "from sklearn.model_selection import train_test_split\n",
    "\n",
    "import matplotlib.pyplot as plt\n",
    "import numpy as np\n",
    "import pandas as pd"
   ]
  },
  {
   "cell_type": "markdown",
   "id": "7662ff8dfcb158b6",
   "metadata": {
    "id": "7662ff8dfcb158b6"
   },
   "source": [
    "## Loading Data"
   ]
  },
  {
   "cell_type": "code",
   "execution_count": 5,
   "id": "7f1053bd52249669",
   "metadata": {
    "ExecuteTime": {
     "end_time": "2024-10-27T16:06:35.323915Z",
     "start_time": "2024-10-27T16:06:35.318380Z"
    },
    "id": "7f1053bd52249669"
   },
   "outputs": [],
   "source": [
    "dataset_seed = 42\n",
    "shuffle = True\n",
    "training_split = 0.5"
   ]
  },
  {
   "cell_type": "code",
   "execution_count": 6,
   "id": "1e5976dc411757fa",
   "metadata": {
    "ExecuteTime": {
     "end_time": "2024-10-27T16:47:17.352283Z",
     "start_time": "2024-10-27T16:47:16.580933Z"
    },
    "colab": {
     "base_uri": "https://localhost:8080/"
    },
    "id": "1e5976dc411757fa",
    "outputId": "7ce3a25e-682e-4719-a100-9f3c1d15701d"
   },
   "outputs": [
    {
     "name": "stdout",
     "output_type": "stream",
     "text": [
      "Found 9144 files belonging to 102 classes.\n",
      "Using 4572 files for training.\n",
      "Found 9144 files belonging to 102 classes.\n",
      "Using 4572 files for validation.\n"
     ]
    }
   ],
   "source": [
    "# Split the dataset into training and validation splits\n",
    "\n",
    "training_data = image_dataset_from_directory(\n",
    "\tdirectory=\"/content/caltech-101/101_ObjectCategories\",\n",
    "\tshuffle=shuffle,\n",
    "\tvalidation_split=training_split,\n",
    "\tseed=dataset_seed,\n",
    "\tsubset='training',\n",
    "\timage_size=(224, 224),\n",
    "\tlabel_mode='categorical'\n",
    ")\n",
    "\n",
    "validation_data = image_dataset_from_directory(\n",
    "\tdirectory=\"/content/caltech-101/101_ObjectCategories\",\n",
    "\tshuffle=shuffle,\n",
    "\tvalidation_split=training_split,\n",
    "\tseed=dataset_seed,\n",
    "\tsubset='validation',\n",
    "\timage_size=(224, 224),\n",
    "\tlabel_mode='categorical'\n",
    ")"
   ]
  },
  {
   "cell_type": "code",
   "execution_count": 7,
   "id": "5f8f327fcc713e72",
   "metadata": {
    "ExecuteTime": {
     "end_time": "2024-10-27T16:47:19.401555Z",
     "start_time": "2024-10-27T16:47:19.393555Z"
    },
    "id": "5f8f327fcc713e72"
   },
   "outputs": [],
   "source": []
  },
  {
   "cell_type": "markdown",
   "id": "744613b9dfc81e0",
   "metadata": {
    "id": "744613b9dfc81e0"
   },
   "source": [
    "## Loading Pre-trained Model"
   ]
  },
  {
   "cell_type": "code",
   "execution_count": 8,
   "id": "c3581a99d8adf1ba",
   "metadata": {
    "ExecuteTime": {
     "end_time": "2024-10-27T16:47:22.728359Z",
     "start_time": "2024-10-27T16:47:21.028292Z"
    },
    "colab": {
     "base_uri": "https://localhost:8080/"
    },
    "id": "c3581a99d8adf1ba",
    "outputId": "e1d27714-0976-47d4-d060-47170e3e9f71"
   },
   "outputs": [
    {
     "name": "stdout",
     "output_type": "stream",
     "text": [
      "Downloading data from https://storage.googleapis.com/tensorflow/keras-applications/vgg16/vgg16_weights_tf_dim_ordering_tf_kernels_notop.h5\n",
      "\u001b[1m58889256/58889256\u001b[0m \u001b[32m━━━━━━━━━━━━━━━━━━━━\u001b[0m\u001b[37m\u001b[0m \u001b[1m1s\u001b[0m 0us/step\n"
     ]
    }
   ],
   "source": [
    "vgg16 = tf.keras.applications.VGG16(include_top=False, weights='imagenet')"
   ]
  },
  {
   "cell_type": "code",
   "execution_count": 9,
   "id": "4490324d88c78876",
   "metadata": {
    "ExecuteTime": {
     "end_time": "2024-10-27T16:47:24.079324Z",
     "start_time": "2024-10-27T16:47:24.075599Z"
    },
    "id": "4490324d88c78876"
   },
   "outputs": [],
   "source": [
    "## Freezing internal layers of vgg16 (To prevent training them)\n",
    "for layer in vgg16.layers:\n",
    "\tlayer.trainable = False"
   ]
  },
  {
   "cell_type": "markdown",
   "id": "cef9f90a23d4dafe",
   "metadata": {
    "id": "cef9f90a23d4dafe"
   },
   "source": [
    "## Creating custom classifier"
   ]
  },
  {
   "cell_type": "code",
   "execution_count": 15,
   "id": "734923cd4d338966",
   "metadata": {
    "ExecuteTime": {
     "end_time": "2024-10-27T16:52:15.670070Z",
     "start_time": "2024-10-27T16:52:15.659030Z"
    },
    "id": "734923cd4d338966"
   },
   "outputs": [],
   "source": [
    "custom_classifier = tf.keras.Sequential([\n",
    "\tFlatten(),\n",
    "\tDense(2048, activation='relu'),\n",
    "\tDropout(0.35),\n",
    "\tDense(1024, activation='relu'),\n",
    "\tDropout(0.3),\n",
    "\tDense(512, activation='relu'),\n",
    "\tDropout(0.3),\n",
    "\tDense(256, activation='relu'),\n",
    "\tDropout(0.2),\n",
    "\tDense(102, activation='softmax')\n",
    "])"
   ]
  },
  {
   "cell_type": "markdown",
   "id": "f6fed8a9b762f29d",
   "metadata": {
    "id": "f6fed8a9b762f29d"
   },
   "source": [
    "## Creating model"
   ]
  },
  {
   "cell_type": "code",
   "execution_count": 16,
   "id": "cac947372df11ee3",
   "metadata": {
    "ExecuteTime": {
     "end_time": "2024-10-27T16:52:16.292102Z",
     "start_time": "2024-10-27T16:52:16.196154Z"
    },
    "id": "cac947372df11ee3"
   },
   "outputs": [],
   "source": [
    "model = tf.keras.Sequential([\n",
    "\tvgg16,\n",
    "\tcustom_classifier\n",
    "])"
   ]
  },
  {
   "cell_type": "markdown",
   "id": "e3f638b63603b1c7",
   "metadata": {
    "id": "e3f638b63603b1c7"
   },
   "source": [
    "## Training the model"
   ]
  },
  {
   "cell_type": "code",
   "execution_count": 17,
   "id": "a51c6e00f103e737",
   "metadata": {
    "ExecuteTime": {
     "end_time": "2024-10-27T16:52:17.378068Z",
     "start_time": "2024-10-27T16:52:17.367544Z"
    },
    "id": "a51c6e00f103e737"
   },
   "outputs": [],
   "source": [
    "model.compile(optimizer='adam', loss='categorical_crossentropy', metrics=['accuracy'])"
   ]
  },
  {
   "cell_type": "code",
   "execution_count": 18,
   "id": "AXPln0AAFJ_8",
   "metadata": {
    "id": "AXPln0AAFJ_8"
   },
   "outputs": [],
   "source": [
    "early_stopping = tf.keras.callbacks.EarlyStopping(monitor='val_loss', patience=2, restore_best_weights=True)"
   ]
  },
  {
   "cell_type": "code",
   "execution_count": null,
   "id": "c97cbf8758e835f3",
   "metadata": {
    "ExecuteTime": {
     "end_time": "2024-10-27T16:54:35.482Z",
     "start_time": "2024-10-27T16:52:17.711865Z"
    },
    "colab": {
     "base_uri": "https://localhost:8080/"
    },
    "id": "c97cbf8758e835f3",
    "outputId": "12fc9be7-cf76-4844-87a5-369027cbdb83"
   },
   "outputs": [
    {
     "name": "stdout",
     "output_type": "stream",
     "text": [
      "Epoch 1/5\n",
      "\u001b[1m 71/143\u001b[0m \u001b[32m━━━━━━━━━\u001b[0m\u001b[37m━━━━━━━━━━━\u001b[0m \u001b[1m9s\u001b[0m 130ms/step - accuracy: 0.4402 - loss: 2.7807"
     ]
    }
   ],
   "source": [
    "history = model.fit(training_data, epochs=5, validation_data=validation_data)"
   ]
  },
  {
   "cell_type": "code",
   "execution_count": 20,
   "id": "fkJgrmR68x-D",
   "metadata": {
    "colab": {
     "base_uri": "https://localhost:8080/",
     "height": 472
    },
    "id": "fkJgrmR68x-D",
    "outputId": "461f87eb-4c70-4e1c-c687-1286f733c91d"
   },
   "outputs": [
    {
     "data": {
      "image/png": "[encoded data removed]",
      "text/plain": [
       "<Figure size 640x480 with 1 Axes>"
      ]
     },
     "metadata": {},
     "output_type": "display_data"
    }
   ],
   "source": [
    "import matplotlib.pyplot as plt\n",
    "\n",
    "# Plot training & validation loss values\n",
    "plt.plot(model.history.history['loss'][:4])\n",
    "plt.plot(model.history.history['val_loss'][:4])\n",
    "plt.title('Model loss')\n",
    "plt.ylabel('Loss')\n",
    "plt.xlabel('Epoch')\n",
    "plt.legend(['Train', 'Val'], loc='upper left')\n",
    "plt.show()"
   ]
  },
  {
   "cell_type": "code",
   "execution_count": 21,
   "id": "9-wQD3zv_nvO",
   "metadata": {
    "colab": {
     "base_uri": "https://localhost:8080/",
     "height": 472
    },
    "id": "9-wQD3zv_nvO",
    "outputId": "378fb614-ffbe-448f-ecd2-119beff91d34"
   },
   "outputs": [
    {
     "data": {
      "image/png": "[encoded data removed]",
      "text/plain": [
       "<Figure size 640x480 with 1 Axes>"
      ]
     },
     "metadata": {},
     "output_type": "display_data"
    }
   ],
   "source": [
    "# Plot training & validation loss values\n",
    "plt.plot(model.history.history['accuracy'])\n",
    "plt.plot(model.history.history['val_accuracy'])\n",
    "plt.title('Model Accuracy')\n",
    "plt.ylabel('Accuracy')\n",
    "plt.xlabel('Epoch')\n",
    "plt.legend(['Train', 'Val'], loc='upper left')\n",
    "plt.show()"
   ]
  },
  {
   "cell_type": "code",
   "execution_count": 22,
   "id": "81GUjyqqB0RA",
   "metadata": {
    "colab": {
     "base_uri": "https://localhost:8080/"
    },
    "id": "81GUjyqqB0RA",
    "outputId": "2d9619cd-f657-460d-adfc-3812b3846898"
   },
   "outputs": [
    {
     "name": "stdout",
     "output_type": "stream",
     "text": [
      "\u001b[1m71/71\u001b[0m \u001b[32m━━━━━━━━━━━━━━━━━━━━\u001b[0m\u001b[37m\u001b[0m \u001b[1m9s\u001b[0m 123ms/step - accuracy: 0.4293 - loss: 2.7166\n"
     ]
    },
    {
     "data": {
      "text/plain": [
       "[2.7223119735717773, 0.42693662643432617]"
      ]
     },
     "execution_count": 22,
     "metadata": {},
     "output_type": "execute_result"
    }
   ],
   "source": [
    "model.evaluate(testing_data)"
   ]
  },
  {
   "cell_type": "code",
   "execution_count": null,
   "id": "TxZKZd7DEojF",
   "metadata": {
    "id": "TxZKZd7DEojF"
   },
   "outputs": [],
   "source": []
  }
 ],
 "metadata": {
  "accelerator": "GPU",
  "colab": {
   "gpuType": "T4",
   "provenance": []
  },
  "kernelspec": {
   "display_name": "Python 3 (ipykernel)",
   "language": "python",
   "name": "python3"
  },
  "language_info": {
   "codemirror_mode": {
    "name": "ipython",
    "version": 3
   },
   "file_extension": ".py",
   "mimetype": "text/x-python",
   "name": "python",
   "nbconvert_exporter": "python",
   "pygments_lexer": "ipython3",
   "version": "3.11.7"
  },
  "widgets": {
   "application/vnd.jupyter.widget-state+json": {
    "state": {},
    "version_major": 2,
    "version_minor": 0
   }
  }
 },
 "nbformat": 4,
 "nbformat_minor": 5
}
