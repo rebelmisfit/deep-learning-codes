{
 "cells": [
  {
   "cell_type": "markdown",
   "id": "b3f794da-94e0-4334-995a-c0971bd86d75",
   "metadata": {},
   "source": [
    "# We use mnist as training dataset and fashion-mnist as anomalous data."
   ]
  },
  {
   "cell_type": "code",
   "execution_count": 3,
   "id": "0dc70154-2dd0-47b6-be8a-e89dc3f35072",
   "metadata": {},
   "outputs": [],
   "source": [
    "import pandas as pd\n",
    "import numpy as np\n",
    "import matplotlib.pyplot as plt\n",
    "from sklearn.model_selection import train_test_split\n",
    "from sklearn.metrics import accuracy_score\n",
    "from sklearn.preprocessing import MinMaxScaler\n",
    "\n",
    "import tensorflow as tf\n",
    "from tensorflow.keras.layers import Conv2D, BatchNormalization, Conv2DTranspose, Input\n",
    "from tensorflow.keras.models import Model, Sequential\n",
    "from tensorflow.keras.datasets import mnist, fashion_mnist"
   ]
  },
  {
   "cell_type": "markdown",
   "id": "ca75d481-de8f-4d85-90f7-5126b4b25d8f",
   "metadata": {},
   "source": [
    "## Loading datasets"
   ]
  },
  {
   "cell_type": "code",
   "execution_count": 13,
   "id": "9b9ffbc9-1ba2-46eb-b4fa-fdd051206095",
   "metadata": {},
   "outputs": [],
   "source": [
    "(X_train_mnist, y_train_mnist), (X_test_mnist, y_test_mnist) = mnist.load_data()\n",
    "\n",
    "X_train_mnist = X_train_mnist / 255.0\n",
    "X_test_mnist = X_test_mnist / 255.0"
   ]
  },
  {
   "cell_type": "code",
   "execution_count": 14,
   "id": "1c6de379-e10c-4394-ab56-855485d0b954",
   "metadata": {},
   "outputs": [],
   "source": [
    "(X_train_fashion, y_train_fashion), (X_test_fashion, y_test_fashion) = fashion_mnist.load_data()\n",
    "\n",
    "X_train_fashion = X_train_fashion / 255.0\n",
    "X_test_fashion = X_test_fashion / 255.0"
   ]
  },
  {
   "cell_type": "markdown",
   "id": "e2dcdacb-5ce8-40bc-8994-55241832b3fd",
   "metadata": {},
   "source": [
    "## Defining autoencoder"
   ]
  },
  {
   "cell_type": "code",
   "execution_count": 15,
   "id": "84bf689b-f6a1-4284-8df7-c4b234fdd185",
   "metadata": {},
   "outputs": [],
   "source": [
    "encoder = Sequential([\n",
    "    Input(shape=(28, 28, 1)),\n",
    "    Conv2D(filters=32, kernel_size=3, strides=1, padding='same', activation='relu'),\n",
    "    BatchNormalization(),\n",
    "    Conv2D(filters=64, kernel_size=3, strides=2, padding='same', activation='relu'),\n",
    "    BatchNormalization(),\n",
    "    Conv2D(filters=64, kernel_size=3, strides=2, padding='same', activation='relu'),\n",
    "    BatchNormalization()\n",
    "])"
   ]
  },
  {
   "cell_type": "code",
   "execution_count": 16,
   "id": "971de299-d7a8-4bb2-bf9e-dd6d6f64d14d",
   "metadata": {},
   "outputs": [],
   "source": [
    "decoder = Sequential([\n",
    "    Conv2DTranspose(filters=64, kernel_size=3, strides=1, padding='same', activation='relu'),\n",
    "    BatchNormalization(),\n",
    "    Conv2DTranspose(filters=64, kernel_size=3, strides=2, padding='same', activation='relu'),\n",
    "    BatchNormalization(),\n",
    "    Conv2DTranspose(filters=32, kernel_size=3, strides=2, padding='same', activation='relu'),\n",
    "    BatchNormalization(),\n",
    "    Conv2DTranspose(filters=1, kernel_size=3, strides=1, padding='same', activation='sigmoid'), # We use sigmoid here as it normalizes output -> (0, 1)\n",
    "])"
   ]
  },
  {
   "cell_type": "markdown",
   "id": "5aafc93f-8957-44d5-a966-882cd7ff256a",
   "metadata": {},
   "source": [
    "### Loss function used for comparing images is SSIM (Structured Similarity Index). It compares images based on structure, luminance and contrast."
   ]
  },
  {
   "cell_type": "code",
   "execution_count": 17,
   "id": "47cb34c7-9e13-4d01-a54b-fdb878919dcc",
   "metadata": {},
   "outputs": [],
   "source": [
    "# Defining the SSIM loss function\n",
    "def SSIMLoss(y_true, y_pred):\n",
    "    y_true = tf.cast(y_true, tf.float32)\n",
    "    y_pred = tf.cast(y_pred, tf.float32)\n",
    "    return 1 - tf.reduce_mean(tf.image.ssim(y_true, y_pred, 1.0))"
   ]
  },
  {
   "cell_type": "markdown",
   "id": "ca47a88d-7571-411b-9795-98f4d1f6412e",
   "metadata": {},
   "source": [
    "## Training the model"
   ]
  },
  {
   "cell_type": "code",
   "execution_count": 18,
   "id": "c9a6b44f-4016-4d22-8934-bbc084e868cd",
   "metadata": {},
   "outputs": [],
   "source": [
    "autoencoder = Sequential([\n",
    "    encoder,\n",
    "    decoder\n",
    "])"
   ]
  },
  {
   "cell_type": "code",
   "execution_count": 19,
   "id": "05280a99-dcb5-411e-a996-3613eb09faed",
   "metadata": {},
   "outputs": [],
   "source": [
    "autoencoder.compile(optimizer='adam', loss=SSIMLoss)"
   ]
  },
  {
   "cell_type": "code",
   "execution_count": 20,
   "id": "285d4f64-c201-4138-8501-824d605f47d9",
   "metadata": {},
   "outputs": [
    {
     "name": "stdout",
     "output_type": "stream",
     "text": [
      "Epoch 1/10\n",
      "1875/1875 [==============================] - 41s 21ms/step - loss: 0.1351 - val_loss: 0.1148\n",
      "Epoch 2/10\n",
      "1875/1875 [==============================] - 38s 20ms/step - loss: 0.1116 - val_loss: 0.1099\n",
      "Epoch 3/10\n",
      "1875/1875 [==============================] - 42s 22ms/step - loss: 0.1078 - val_loss: 0.0777\n",
      "Epoch 4/10\n",
      "1875/1875 [==============================] - 39s 21ms/step - loss: 0.0736 - val_loss: 0.0732\n",
      "Epoch 5/10\n",
      "1875/1875 [==============================] - 37s 20ms/step - loss: 0.0731 - val_loss: 0.0753\n",
      "Epoch 6/10\n",
      "1875/1875 [==============================] - 40s 21ms/step - loss: 0.0727 - val_loss: 0.0726\n",
      "Epoch 7/10\n",
      "1875/1875 [==============================] - 38s 20ms/step - loss: 0.0725 - val_loss: 0.0723\n",
      "Epoch 8/10\n",
      "1875/1875 [==============================] - 39s 21ms/step - loss: 0.0724 - val_loss: 0.0724\n",
      "Epoch 9/10\n",
      "1875/1875 [==============================] - 38s 20ms/step - loss: 0.0722 - val_loss: 0.0724\n",
      "Epoch 10/10\n",
      "1875/1875 [==============================] - 37s 20ms/step - loss: 0.0721 - val_loss: 0.0720\n"
     ]
    },
    {
     "data": {
      "text/plain": [
       "<keras.src.callbacks.History at 0x21919281ed0>"
      ]
     },
     "execution_count": 20,
     "metadata": {},
     "output_type": "execute_result"
    }
   ],
   "source": [
    "autoencoder.fit(X_train_mnist, X_train_mnist, epochs=10, shuffle=True, validation_data=(X_test_mnist, X_test_mnist))"
   ]
  },
  {
   "cell_type": "code",
   "execution_count": 30,
   "id": "c05239ad-aec4-437a-9959-23744f205f21",
   "metadata": {},
   "outputs": [
    {
     "name": "stdout",
     "output_type": "stream",
     "text": [
      "313/313 [==============================] - 2s 6ms/step - loss: 0.0720\n"
     ]
    },
    {
     "data": {
      "text/plain": [
       "0.07203537970781326"
      ]
     },
     "execution_count": 30,
     "metadata": {},
     "output_type": "execute_result"
    }
   ],
   "source": [
    "autoencoder.evaluate(X_test_mnist, X_test_mnist)"
   ]
  },
  {
   "cell_type": "markdown",
   "id": "d3a59ced-ae0c-4b1d-95c5-1457c22807a7",
   "metadata": {},
   "source": [
    "## Testing on fashion-mnist dataset"
   ]
  },
  {
   "cell_type": "code",
   "execution_count": 34,
   "id": "9b84ea21-22ec-4abc-9c8c-5698d8a71548",
   "metadata": {},
   "outputs": [
    {
     "name": "stdout",
     "output_type": "stream",
     "text": [
      "1875/1875 [==============================] - 11s 6ms/step\n"
     ]
    }
   ],
   "source": [
    "reconstructed_images = autoencoder.predict(X_train_fashion.reshape(-1, 28, 28, 1))"
   ]
  },
  {
   "cell_type": "code",
   "execution_count": 35,
   "id": "d2c8d7b5-960e-48d0-b469-b6c449c80b8e",
   "metadata": {},
   "outputs": [
    {
     "name": "stdout",
     "output_type": "stream",
     "text": [
      "SSIM Loss: 0.9656606316566467\n"
     ]
    }
   ],
   "source": [
    "print(f'SSIM Loss: {SSIMLoss(X_train_fashion.reshape(-1, 28, 28, 1), reconstructed_image)}')"
   ]
  },
  {
   "cell_type": "code",
   "execution_count": null,
   "id": "38e0d950-e0b8-4996-b418-6be6ba4b3454",
   "metadata": {},
   "outputs": [],
   "source": []
  }
 ],
 "metadata": {
  "kernelspec": {
   "display_name": "autotrain",
   "language": "python",
   "name": "autotrain"
  },
  "language_info": {
   "codemirror_mode": {
    "name": "ipython",
    "version": 3
   },
   "file_extension": ".py",
   "mimetype": "text/x-python",
   "name": "python",
   "nbconvert_exporter": "python",
   "pygments_lexer": "ipython3",
   "version": "3.11.9"
  }
 },
 "nbformat": 4,
 "nbformat_minor": 5
}
